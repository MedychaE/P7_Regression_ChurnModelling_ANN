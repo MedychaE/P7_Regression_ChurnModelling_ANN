{
 "cells": [
  {
   "cell_type": "code",
   "execution_count": 6,
   "metadata": {},
   "outputs": [],
   "source": [
    "import pandas as pd\n",
    "from sklearn.model_selection import train_test_split\n",
    "from sklearn.preprocessing import StandardScaler, LabelEncoder, OneHotEncoder\n",
    "import pickle"
   ]
  },
  {
   "cell_type": "code",
   "execution_count": 7,
   "metadata": {},
   "outputs": [
    {
     "data": {
      "text/html": [
       "<div>\n",
       "<style scoped>\n",
       "    .dataframe tbody tr th:only-of-type {\n",
       "        vertical-align: middle;\n",
       "    }\n",
       "\n",
       "    .dataframe tbody tr th {\n",
       "        vertical-align: top;\n",
       "    }\n",
       "\n",
       "    .dataframe thead th {\n",
       "        text-align: right;\n",
       "    }\n",
       "</style>\n",
       "<table border=\"1\" class=\"dataframe\">\n",
       "  <thead>\n",
       "    <tr style=\"text-align: right;\">\n",
       "      <th></th>\n",
       "      <th>RowNumber</th>\n",
       "      <th>CustomerId</th>\n",
       "      <th>Surname</th>\n",
       "      <th>CreditScore</th>\n",
       "      <th>Geography</th>\n",
       "      <th>Gender</th>\n",
       "      <th>Age</th>\n",
       "      <th>Tenure</th>\n",
       "      <th>Balance</th>\n",
       "      <th>NumOfProducts</th>\n",
       "      <th>HasCrCard</th>\n",
       "      <th>IsActiveMember</th>\n",
       "      <th>EstimatedSalary</th>\n",
       "      <th>Exited</th>\n",
       "    </tr>\n",
       "  </thead>\n",
       "  <tbody>\n",
       "    <tr>\n",
       "      <th>0</th>\n",
       "      <td>1</td>\n",
       "      <td>15634602</td>\n",
       "      <td>Hargrave</td>\n",
       "      <td>619</td>\n",
       "      <td>France</td>\n",
       "      <td>Female</td>\n",
       "      <td>42</td>\n",
       "      <td>2</td>\n",
       "      <td>0.00</td>\n",
       "      <td>1</td>\n",
       "      <td>1</td>\n",
       "      <td>1</td>\n",
       "      <td>101348.88</td>\n",
       "      <td>1</td>\n",
       "    </tr>\n",
       "    <tr>\n",
       "      <th>1</th>\n",
       "      <td>2</td>\n",
       "      <td>15647311</td>\n",
       "      <td>Hill</td>\n",
       "      <td>608</td>\n",
       "      <td>Spain</td>\n",
       "      <td>Female</td>\n",
       "      <td>41</td>\n",
       "      <td>1</td>\n",
       "      <td>83807.86</td>\n",
       "      <td>1</td>\n",
       "      <td>0</td>\n",
       "      <td>1</td>\n",
       "      <td>112542.58</td>\n",
       "      <td>0</td>\n",
       "    </tr>\n",
       "    <tr>\n",
       "      <th>2</th>\n",
       "      <td>3</td>\n",
       "      <td>15619304</td>\n",
       "      <td>Onio</td>\n",
       "      <td>502</td>\n",
       "      <td>France</td>\n",
       "      <td>Female</td>\n",
       "      <td>42</td>\n",
       "      <td>8</td>\n",
       "      <td>159660.80</td>\n",
       "      <td>3</td>\n",
       "      <td>1</td>\n",
       "      <td>0</td>\n",
       "      <td>113931.57</td>\n",
       "      <td>1</td>\n",
       "    </tr>\n",
       "    <tr>\n",
       "      <th>3</th>\n",
       "      <td>4</td>\n",
       "      <td>15701354</td>\n",
       "      <td>Boni</td>\n",
       "      <td>699</td>\n",
       "      <td>France</td>\n",
       "      <td>Female</td>\n",
       "      <td>39</td>\n",
       "      <td>1</td>\n",
       "      <td>0.00</td>\n",
       "      <td>2</td>\n",
       "      <td>0</td>\n",
       "      <td>0</td>\n",
       "      <td>93826.63</td>\n",
       "      <td>0</td>\n",
       "    </tr>\n",
       "    <tr>\n",
       "      <th>4</th>\n",
       "      <td>5</td>\n",
       "      <td>15737888</td>\n",
       "      <td>Mitchell</td>\n",
       "      <td>850</td>\n",
       "      <td>Spain</td>\n",
       "      <td>Female</td>\n",
       "      <td>43</td>\n",
       "      <td>2</td>\n",
       "      <td>125510.82</td>\n",
       "      <td>1</td>\n",
       "      <td>1</td>\n",
       "      <td>1</td>\n",
       "      <td>79084.10</td>\n",
       "      <td>0</td>\n",
       "    </tr>\n",
       "  </tbody>\n",
       "</table>\n",
       "</div>"
      ],
      "text/plain": [
       "   RowNumber  CustomerId   Surname  CreditScore Geography  Gender  Age  \\\n",
       "0          1    15634602  Hargrave          619    France  Female   42   \n",
       "1          2    15647311      Hill          608     Spain  Female   41   \n",
       "2          3    15619304      Onio          502    France  Female   42   \n",
       "3          4    15701354      Boni          699    France  Female   39   \n",
       "4          5    15737888  Mitchell          850     Spain  Female   43   \n",
       "\n",
       "   Tenure    Balance  NumOfProducts  HasCrCard  IsActiveMember  \\\n",
       "0       2       0.00              1          1               1   \n",
       "1       1   83807.86              1          0               1   \n",
       "2       8  159660.80              3          1               0   \n",
       "3       1       0.00              2          0               0   \n",
       "4       2  125510.82              1          1               1   \n",
       "\n",
       "   EstimatedSalary  Exited  \n",
       "0        101348.88       1  \n",
       "1        112542.58       0  \n",
       "2        113931.57       1  \n",
       "3         93826.63       0  \n",
       "4         79084.10       0  "
      ]
     },
     "execution_count": 7,
     "metadata": {},
     "output_type": "execute_result"
    }
   ],
   "source": [
    "data=pd.read_csv('Churn_Modelling.csv')\n",
    "data.head()"
   ]
  },
  {
   "cell_type": "code",
   "execution_count": 8,
   "metadata": {},
   "outputs": [],
   "source": [
    "## Preprocess the data\n",
    "data=data.drop(['RowNumber','CustomerId','Surname'],axis=1)"
   ]
  },
  {
   "cell_type": "code",
   "execution_count": 9,
   "metadata": {},
   "outputs": [],
   "source": [
    "## Encoded categorical variables\n",
    "label_encoder_gender=LabelEncoder()\n",
    "data['Gender']=label_encoder_gender.fit_transform(data['Gender'])"
   ]
  },
  {
   "cell_type": "code",
   "execution_count": 10,
   "metadata": {},
   "outputs": [
    {
     "data": {
      "text/html": [
       "<div>\n",
       "<style scoped>\n",
       "    .dataframe tbody tr th:only-of-type {\n",
       "        vertical-align: middle;\n",
       "    }\n",
       "\n",
       "    .dataframe tbody tr th {\n",
       "        vertical-align: top;\n",
       "    }\n",
       "\n",
       "    .dataframe thead th {\n",
       "        text-align: right;\n",
       "    }\n",
       "</style>\n",
       "<table border=\"1\" class=\"dataframe\">\n",
       "  <thead>\n",
       "    <tr style=\"text-align: right;\">\n",
       "      <th></th>\n",
       "      <th>Geography_France</th>\n",
       "      <th>Geography_Germany</th>\n",
       "      <th>Geography_Spain</th>\n",
       "    </tr>\n",
       "  </thead>\n",
       "  <tbody>\n",
       "    <tr>\n",
       "      <th>0</th>\n",
       "      <td>1.0</td>\n",
       "      <td>0.0</td>\n",
       "      <td>0.0</td>\n",
       "    </tr>\n",
       "    <tr>\n",
       "      <th>1</th>\n",
       "      <td>0.0</td>\n",
       "      <td>0.0</td>\n",
       "      <td>1.0</td>\n",
       "    </tr>\n",
       "    <tr>\n",
       "      <th>2</th>\n",
       "      <td>1.0</td>\n",
       "      <td>0.0</td>\n",
       "      <td>0.0</td>\n",
       "    </tr>\n",
       "    <tr>\n",
       "      <th>3</th>\n",
       "      <td>1.0</td>\n",
       "      <td>0.0</td>\n",
       "      <td>0.0</td>\n",
       "    </tr>\n",
       "    <tr>\n",
       "      <th>4</th>\n",
       "      <td>0.0</td>\n",
       "      <td>0.0</td>\n",
       "      <td>1.0</td>\n",
       "    </tr>\n",
       "    <tr>\n",
       "      <th>...</th>\n",
       "      <td>...</td>\n",
       "      <td>...</td>\n",
       "      <td>...</td>\n",
       "    </tr>\n",
       "    <tr>\n",
       "      <th>9995</th>\n",
       "      <td>1.0</td>\n",
       "      <td>0.0</td>\n",
       "      <td>0.0</td>\n",
       "    </tr>\n",
       "    <tr>\n",
       "      <th>9996</th>\n",
       "      <td>1.0</td>\n",
       "      <td>0.0</td>\n",
       "      <td>0.0</td>\n",
       "    </tr>\n",
       "    <tr>\n",
       "      <th>9997</th>\n",
       "      <td>1.0</td>\n",
       "      <td>0.0</td>\n",
       "      <td>0.0</td>\n",
       "    </tr>\n",
       "    <tr>\n",
       "      <th>9998</th>\n",
       "      <td>0.0</td>\n",
       "      <td>1.0</td>\n",
       "      <td>0.0</td>\n",
       "    </tr>\n",
       "    <tr>\n",
       "      <th>9999</th>\n",
       "      <td>1.0</td>\n",
       "      <td>0.0</td>\n",
       "      <td>0.0</td>\n",
       "    </tr>\n",
       "  </tbody>\n",
       "</table>\n",
       "<p>10000 rows × 3 columns</p>\n",
       "</div>"
      ],
      "text/plain": [
       "      Geography_France  Geography_Germany  Geography_Spain\n",
       "0                  1.0                0.0              0.0\n",
       "1                  0.0                0.0              1.0\n",
       "2                  1.0                0.0              0.0\n",
       "3                  1.0                0.0              0.0\n",
       "4                  0.0                0.0              1.0\n",
       "...                ...                ...              ...\n",
       "9995               1.0                0.0              0.0\n",
       "9996               1.0                0.0              0.0\n",
       "9997               1.0                0.0              0.0\n",
       "9998               0.0                1.0              0.0\n",
       "9999               1.0                0.0              0.0\n",
       "\n",
       "[10000 rows x 3 columns]"
      ]
     },
     "execution_count": 10,
     "metadata": {},
     "output_type": "execute_result"
    }
   ],
   "source": [
    "## One-hot encode 'Geography'\n",
    "onehot_encoder_geo=OneHotEncoder(handle_unknown='error')\n",
    "geo_encoded=onehot_encoder_geo.fit_transform(data[['Geography']]).toarray()\n",
    "geo_encoded_df=pd.DataFrame(geo_encoded, columns=onehot_encoder_geo.get_feature_names_out(['Geography']))\n",
    "geo_encoded_df"
   ]
  },
  {
   "cell_type": "code",
   "execution_count": 11,
   "metadata": {},
   "outputs": [
    {
     "data": {
      "text/html": [
       "<div>\n",
       "<style scoped>\n",
       "    .dataframe tbody tr th:only-of-type {\n",
       "        vertical-align: middle;\n",
       "    }\n",
       "\n",
       "    .dataframe tbody tr th {\n",
       "        vertical-align: top;\n",
       "    }\n",
       "\n",
       "    .dataframe thead th {\n",
       "        text-align: right;\n",
       "    }\n",
       "</style>\n",
       "<table border=\"1\" class=\"dataframe\">\n",
       "  <thead>\n",
       "    <tr style=\"text-align: right;\">\n",
       "      <th></th>\n",
       "      <th>CreditScore</th>\n",
       "      <th>Gender</th>\n",
       "      <th>Age</th>\n",
       "      <th>Tenure</th>\n",
       "      <th>Balance</th>\n",
       "      <th>NumOfProducts</th>\n",
       "      <th>HasCrCard</th>\n",
       "      <th>IsActiveMember</th>\n",
       "      <th>EstimatedSalary</th>\n",
       "      <th>Exited</th>\n",
       "      <th>Geography_France</th>\n",
       "      <th>Geography_Germany</th>\n",
       "      <th>Geography_Spain</th>\n",
       "    </tr>\n",
       "  </thead>\n",
       "  <tbody>\n",
       "    <tr>\n",
       "      <th>0</th>\n",
       "      <td>619</td>\n",
       "      <td>0</td>\n",
       "      <td>42</td>\n",
       "      <td>2</td>\n",
       "      <td>0.00</td>\n",
       "      <td>1</td>\n",
       "      <td>1</td>\n",
       "      <td>1</td>\n",
       "      <td>101348.88</td>\n",
       "      <td>1</td>\n",
       "      <td>1.0</td>\n",
       "      <td>0.0</td>\n",
       "      <td>0.0</td>\n",
       "    </tr>\n",
       "    <tr>\n",
       "      <th>1</th>\n",
       "      <td>608</td>\n",
       "      <td>0</td>\n",
       "      <td>41</td>\n",
       "      <td>1</td>\n",
       "      <td>83807.86</td>\n",
       "      <td>1</td>\n",
       "      <td>0</td>\n",
       "      <td>1</td>\n",
       "      <td>112542.58</td>\n",
       "      <td>0</td>\n",
       "      <td>0.0</td>\n",
       "      <td>0.0</td>\n",
       "      <td>1.0</td>\n",
       "    </tr>\n",
       "    <tr>\n",
       "      <th>2</th>\n",
       "      <td>502</td>\n",
       "      <td>0</td>\n",
       "      <td>42</td>\n",
       "      <td>8</td>\n",
       "      <td>159660.80</td>\n",
       "      <td>3</td>\n",
       "      <td>1</td>\n",
       "      <td>0</td>\n",
       "      <td>113931.57</td>\n",
       "      <td>1</td>\n",
       "      <td>1.0</td>\n",
       "      <td>0.0</td>\n",
       "      <td>0.0</td>\n",
       "    </tr>\n",
       "    <tr>\n",
       "      <th>3</th>\n",
       "      <td>699</td>\n",
       "      <td>0</td>\n",
       "      <td>39</td>\n",
       "      <td>1</td>\n",
       "      <td>0.00</td>\n",
       "      <td>2</td>\n",
       "      <td>0</td>\n",
       "      <td>0</td>\n",
       "      <td>93826.63</td>\n",
       "      <td>0</td>\n",
       "      <td>1.0</td>\n",
       "      <td>0.0</td>\n",
       "      <td>0.0</td>\n",
       "    </tr>\n",
       "    <tr>\n",
       "      <th>4</th>\n",
       "      <td>850</td>\n",
       "      <td>0</td>\n",
       "      <td>43</td>\n",
       "      <td>2</td>\n",
       "      <td>125510.82</td>\n",
       "      <td>1</td>\n",
       "      <td>1</td>\n",
       "      <td>1</td>\n",
       "      <td>79084.10</td>\n",
       "      <td>0</td>\n",
       "      <td>0.0</td>\n",
       "      <td>0.0</td>\n",
       "      <td>1.0</td>\n",
       "    </tr>\n",
       "  </tbody>\n",
       "</table>\n",
       "</div>"
      ],
      "text/plain": [
       "   CreditScore  Gender  Age  Tenure    Balance  NumOfProducts  HasCrCard  \\\n",
       "0          619       0   42       2       0.00              1          1   \n",
       "1          608       0   41       1   83807.86              1          0   \n",
       "2          502       0   42       8  159660.80              3          1   \n",
       "3          699       0   39       1       0.00              2          0   \n",
       "4          850       0   43       2  125510.82              1          1   \n",
       "\n",
       "   IsActiveMember  EstimatedSalary  Exited  Geography_France  \\\n",
       "0               1        101348.88       1               1.0   \n",
       "1               1        112542.58       0               0.0   \n",
       "2               0        113931.57       1               1.0   \n",
       "3               0         93826.63       0               1.0   \n",
       "4               1         79084.10       0               0.0   \n",
       "\n",
       "   Geography_Germany  Geography_Spain  \n",
       "0                0.0              0.0  \n",
       "1                0.0              1.0  \n",
       "2                0.0              0.0  \n",
       "3                0.0              0.0  \n",
       "4                0.0              1.0  "
      ]
     },
     "execution_count": 11,
     "metadata": {},
     "output_type": "execute_result"
    }
   ],
   "source": [
    "## Combine one-hot encoded columns with original data\n",
    "data=pd.concat([data.drop('Geography',axis=1),geo_encoded_df],axis=1)\n",
    "data.head()"
   ]
  },
  {
   "cell_type": "code",
   "execution_count": 12,
   "metadata": {},
   "outputs": [],
   "source": [
    "## Split the data into features and target\n",
    "X=data.drop('EstimatedSalary',axis=1)\n",
    "y=data['EstimatedSalary']"
   ]
  },
  {
   "cell_type": "code",
   "execution_count": 13,
   "metadata": {},
   "outputs": [],
   "source": [
    "## Split the data in training and testing sets\n",
    "X_train,X_test,y_train,y_test=train_test_split(X,y,test_size=0.2,random_state=42)"
   ]
  },
  {
   "cell_type": "code",
   "execution_count": 14,
   "metadata": {},
   "outputs": [],
   "source": [
    "## Scale these features\n",
    "scaler=StandardScaler()\n",
    "X_train=scaler.fit_transform(X_train)\n",
    "X_test=scaler.transform(X_test)"
   ]
  },
  {
   "cell_type": "code",
   "execution_count": 15,
   "metadata": {},
   "outputs": [],
   "source": [
    "## Save the encoder and scaler for later use\n",
    "with open('label_encoder_gender.pkl','wb') as file:\n",
    "    pickle.dump(label_encoder_gender,file)\n",
    "\n",
    "with open('onehot_encoder_geo.pkl','wb') as file:\n",
    "    pickle.dump(onehot_encoder_geo,file)\n",
    "\n",
    "with open('scaler.pkl','wb') as file:\n",
    "    pickle.dump(scaler,file)"
   ]
  },
  {
   "cell_type": "markdown",
   "metadata": {},
   "source": [
    "## ANN Regression Problem Statement"
   ]
  },
  {
   "cell_type": "code",
   "execution_count": 16,
   "metadata": {},
   "outputs": [
    {
     "name": "stdout",
     "output_type": "stream",
     "text": [
      "WARNING:tensorflow:From c:\\Users\\LENOVO\\Desktop\\Portfolio_AI\\P7_Regression_ChurnModelling_ANN\\venv\\Lib\\site-packages\\keras\\src\\losses.py:2976: The name tf.losses.sparse_softmax_cross_entropy is deprecated. Please use tf.compat.v1.losses.sparse_softmax_cross_entropy instead.\n",
      "\n"
     ]
    }
   ],
   "source": [
    "import tensorflow as tf\n",
    "from tensorflow.keras.models import Sequential\n",
    "from tensorflow.keras.layers import Dense"
   ]
  },
  {
   "cell_type": "code",
   "execution_count": 17,
   "metadata": {},
   "outputs": [
    {
     "name": "stdout",
     "output_type": "stream",
     "text": [
      "WARNING:tensorflow:From c:\\Users\\LENOVO\\Desktop\\Portfolio_AI\\P7_Regression_ChurnModelling_ANN\\venv\\Lib\\site-packages\\keras\\src\\backend.py:873: The name tf.get_default_graph is deprecated. Please use tf.compat.v1.get_default_graph instead.\n",
      "\n"
     ]
    }
   ],
   "source": [
    "## Build the model\n",
    "model=Sequential([\n",
    "    Dense(64,activation='relu',input_shape=(X_train.shape[1],)),\n",
    "    Dense(32, activation='relu'),\n",
    "    Dense(1) # Output layer for regression\n",
    "])"
   ]
  },
  {
   "cell_type": "code",
   "execution_count": 18,
   "metadata": {},
   "outputs": [
    {
     "name": "stdout",
     "output_type": "stream",
     "text": [
      "WARNING:tensorflow:From c:\\Users\\LENOVO\\Desktop\\Portfolio_AI\\P7_Regression_ChurnModelling_ANN\\venv\\Lib\\site-packages\\keras\\src\\optimizers\\__init__.py:309: The name tf.train.Optimizer is deprecated. Please use tf.compat.v1.train.Optimizer instead.\n",
      "\n"
     ]
    }
   ],
   "source": [
    "## Compile the model\n",
    "model.compile(optimizer='adam',loss='mean_absolute_error',metrics=['mae'])"
   ]
  },
  {
   "cell_type": "code",
   "execution_count": 19,
   "metadata": {},
   "outputs": [
    {
     "name": "stdout",
     "output_type": "stream",
     "text": [
      "Model: \"sequential\"\n",
      "_________________________________________________________________\n",
      " Layer (type)                Output Shape              Param #   \n",
      "=================================================================\n",
      " dense (Dense)               (None, 64)                832       \n",
      "                                                                 \n",
      " dense_1 (Dense)             (None, 32)                2080      \n",
      "                                                                 \n",
      " dense_2 (Dense)             (None, 1)                 33        \n",
      "                                                                 \n",
      "=================================================================\n",
      "Total params: 2945 (11.50 KB)\n",
      "Trainable params: 2945 (11.50 KB)\n",
      "Non-trainable params: 0 (0.00 Byte)\n",
      "_________________________________________________________________\n"
     ]
    }
   ],
   "source": [
    "model.summary()"
   ]
  },
  {
   "cell_type": "code",
   "execution_count": 20,
   "metadata": {},
   "outputs": [],
   "source": [
    "## Training the model\n",
    "\n",
    "from tensorflow.keras.callbacks import EarlyStopping, TensorBoard\n",
    "import datetime\n",
    "\n",
    "# set up tensorboard\n",
    "log_dir = \"regressionlogs/fit/\" + datetime.datetime.now().strftime(\"%Y%m%d-%H%M%S\")\n",
    "tensorboard_callback = TensorBoard(log_dir=log_dir,histogram_freq=1)"
   ]
  },
  {
   "cell_type": "code",
   "execution_count": 21,
   "metadata": {},
   "outputs": [],
   "source": [
    "# Set up Early Stopping\n",
    "early_stopping_callback=EarlyStopping(monitor='val_loss',patience=10,restore_best_weights=True)\n"
   ]
  },
  {
   "cell_type": "code",
   "execution_count": 22,
   "metadata": {},
   "outputs": [
    {
     "name": "stdout",
     "output_type": "stream",
     "text": [
      "Epoch 1/100\n",
      "WARNING:tensorflow:From c:\\Users\\LENOVO\\Desktop\\Portfolio_AI\\P7_Regression_ChurnModelling_ANN\\venv\\Lib\\site-packages\\keras\\src\\utils\\tf_utils.py:492: The name tf.ragged.RaggedTensorValue is deprecated. Please use tf.compat.v1.ragged.RaggedTensorValue instead.\n",
      "\n",
      "WARNING:tensorflow:From c:\\Users\\LENOVO\\Desktop\\Portfolio_AI\\P7_Regression_ChurnModelling_ANN\\venv\\Lib\\site-packages\\keras\\src\\engine\\base_layer_utils.py:384: The name tf.executing_eagerly_outside_functions is deprecated. Please use tf.compat.v1.executing_eagerly_outside_functions instead.\n",
      "\n",
      "250/250 [==============================] - 4s 7ms/step - loss: 100368.3125 - mae: 100368.3125 - val_loss: 98481.2188 - val_mae: 98481.2188\n",
      "Epoch 2/100\n",
      "250/250 [==============================] - 1s 4ms/step - loss: 99497.4766 - mae: 99497.4766 - val_loss: 96731.5703 - val_mae: 96731.5703\n",
      "Epoch 3/100\n",
      "250/250 [==============================] - 1s 5ms/step - loss: 96459.0703 - mae: 96459.0703 - val_loss: 92294.8516 - val_mae: 92294.8516\n",
      "Epoch 4/100\n",
      "250/250 [==============================] - 1s 5ms/step - loss: 90561.1875 - mae: 90561.1875 - val_loss: 85069.9688 - val_mae: 85069.9688\n",
      "Epoch 5/100\n",
      "250/250 [==============================] - 1s 4ms/step - loss: 82157.8438 - mae: 82157.8438 - val_loss: 75977.5703 - val_mae: 75977.5703\n",
      "Epoch 6/100\n",
      "250/250 [==============================] - 1s 4ms/step - loss: 72639.3672 - mae: 72639.3672 - val_loss: 66986.2500 - val_mae: 66986.2500\n",
      "Epoch 7/100\n",
      "250/250 [==============================] - 1s 4ms/step - loss: 63874.1133 - mae: 63874.1133 - val_loss: 59579.5703 - val_mae: 59579.5703\n",
      "Epoch 8/100\n",
      "250/250 [==============================] - 1s 4ms/step - loss: 57349.9492 - mae: 57349.9492 - val_loss: 54732.0234 - val_mae: 54732.0234\n",
      "Epoch 9/100\n",
      "250/250 [==============================] - 1s 5ms/step - loss: 53564.0391 - mae: 53564.0391 - val_loss: 52245.9414 - val_mae: 52245.9414\n",
      "Epoch 10/100\n",
      "250/250 [==============================] - 1s 4ms/step - loss: 51744.4766 - mae: 51744.4766 - val_loss: 51318.2617 - val_mae: 51318.2617\n",
      "Epoch 11/100\n",
      "250/250 [==============================] - 1s 4ms/step - loss: 50985.6406 - mae: 50985.6406 - val_loss: 51017.3320 - val_mae: 51017.3320\n",
      "Epoch 12/100\n",
      "250/250 [==============================] - 1s 4ms/step - loss: 50682.2070 - mae: 50682.2070 - val_loss: 50902.2109 - val_mae: 50902.2109\n",
      "Epoch 13/100\n",
      "250/250 [==============================] - 1s 5ms/step - loss: 50529.6406 - mae: 50529.6406 - val_loss: 50831.5469 - val_mae: 50831.5469\n",
      "Epoch 14/100\n",
      "250/250 [==============================] - 1s 5ms/step - loss: 50427.1523 - mae: 50427.1523 - val_loss: 50772.7109 - val_mae: 50772.7109\n",
      "Epoch 15/100\n",
      "250/250 [==============================] - 1s 5ms/step - loss: 50352.6172 - mae: 50352.6172 - val_loss: 50716.2422 - val_mae: 50716.2422\n",
      "Epoch 16/100\n",
      "250/250 [==============================] - 1s 5ms/step - loss: 50283.2578 - mae: 50283.2578 - val_loss: 50656.4297 - val_mae: 50656.4297\n",
      "Epoch 17/100\n",
      "250/250 [==============================] - 1s 5ms/step - loss: 50224.1602 - mae: 50224.1602 - val_loss: 50618.7109 - val_mae: 50618.7109\n",
      "Epoch 18/100\n",
      "250/250 [==============================] - 1s 5ms/step - loss: 50171.6445 - mae: 50171.6445 - val_loss: 50578.0234 - val_mae: 50578.0234\n",
      "Epoch 19/100\n",
      "250/250 [==============================] - 1s 5ms/step - loss: 50123.6719 - mae: 50123.6719 - val_loss: 50539.5742 - val_mae: 50539.5742\n",
      "Epoch 20/100\n",
      "250/250 [==============================] - 1s 5ms/step - loss: 50083.2188 - mae: 50083.2188 - val_loss: 50518.0352 - val_mae: 50518.0352\n",
      "Epoch 21/100\n",
      "250/250 [==============================] - 2s 10ms/step - loss: 50045.8867 - mae: 50045.8867 - val_loss: 50491.7461 - val_mae: 50491.7461\n",
      "Epoch 22/100\n",
      "250/250 [==============================] - 1s 5ms/step - loss: 50013.7070 - mae: 50013.7070 - val_loss: 50465.0352 - val_mae: 50465.0352\n",
      "Epoch 23/100\n",
      "250/250 [==============================] - 1s 5ms/step - loss: 49981.7109 - mae: 49981.7109 - val_loss: 50441.1016 - val_mae: 50441.1016\n",
      "Epoch 24/100\n",
      "250/250 [==============================] - 1s 5ms/step - loss: 49954.5586 - mae: 49954.5586 - val_loss: 50420.0859 - val_mae: 50420.0859\n",
      "Epoch 25/100\n",
      "250/250 [==============================] - 1s 5ms/step - loss: 49923.3867 - mae: 49923.3867 - val_loss: 50406.9102 - val_mae: 50406.9102\n",
      "Epoch 26/100\n",
      "250/250 [==============================] - 1s 5ms/step - loss: 49901.9492 - mae: 49901.9492 - val_loss: 50390.4844 - val_mae: 50390.4844\n",
      "Epoch 27/100\n",
      "250/250 [==============================] - 1s 5ms/step - loss: 49874.6328 - mae: 49874.6328 - val_loss: 50364.2227 - val_mae: 50364.2227\n",
      "Epoch 28/100\n",
      "250/250 [==============================] - 1s 4ms/step - loss: 49854.2070 - mae: 49854.2070 - val_loss: 50347.0586 - val_mae: 50347.0586\n",
      "Epoch 29/100\n",
      "250/250 [==============================] - 1s 5ms/step - loss: 49829.3594 - mae: 49829.3594 - val_loss: 50334.6289 - val_mae: 50334.6289\n",
      "Epoch 30/100\n",
      "250/250 [==============================] - 1s 4ms/step - loss: 49807.8984 - mae: 49807.8984 - val_loss: 50323.8242 - val_mae: 50323.8242\n",
      "Epoch 31/100\n",
      "250/250 [==============================] - 1s 4ms/step - loss: 49790.3633 - mae: 49790.3633 - val_loss: 50314.7305 - val_mae: 50314.7305\n",
      "Epoch 32/100\n",
      "250/250 [==============================] - 1s 5ms/step - loss: 49772.2305 - mae: 49772.2305 - val_loss: 50326.0859 - val_mae: 50326.0859\n",
      "Epoch 33/100\n",
      "250/250 [==============================] - 1s 4ms/step - loss: 49752.1875 - mae: 49752.1875 - val_loss: 50315.2422 - val_mae: 50315.2422\n",
      "Epoch 34/100\n",
      "250/250 [==============================] - 1s 4ms/step - loss: 49734.8086 - mae: 49734.8086 - val_loss: 50308.2773 - val_mae: 50308.2773\n",
      "Epoch 35/100\n",
      "250/250 [==============================] - 1s 5ms/step - loss: 49718.4609 - mae: 49718.4609 - val_loss: 50298.5625 - val_mae: 50298.5625\n",
      "Epoch 36/100\n",
      "250/250 [==============================] - 1s 4ms/step - loss: 49702.9336 - mae: 49702.9336 - val_loss: 50307.4219 - val_mae: 50307.4219\n",
      "Epoch 37/100\n",
      "250/250 [==============================] - 1s 5ms/step - loss: 49686.9023 - mae: 49686.9023 - val_loss: 50288.9414 - val_mae: 50288.9414\n",
      "Epoch 38/100\n",
      "250/250 [==============================] - 1s 4ms/step - loss: 49673.6445 - mae: 49673.6445 - val_loss: 50286.0508 - val_mae: 50286.0508\n",
      "Epoch 39/100\n",
      "250/250 [==============================] - 1s 4ms/step - loss: 49657.2656 - mae: 49657.2656 - val_loss: 50290.0898 - val_mae: 50290.0898\n",
      "Epoch 40/100\n",
      "250/250 [==============================] - 1s 5ms/step - loss: 49645.4258 - mae: 49645.4258 - val_loss: 50291.6992 - val_mae: 50291.6992\n",
      "Epoch 41/100\n",
      "250/250 [==============================] - 1s 5ms/step - loss: 49637.1523 - mae: 49637.1523 - val_loss: 50303.5586 - val_mae: 50303.5586\n",
      "Epoch 42/100\n",
      "250/250 [==============================] - 1s 4ms/step - loss: 49622.6953 - mae: 49622.6953 - val_loss: 50284.0625 - val_mae: 50284.0625\n",
      "Epoch 43/100\n",
      "250/250 [==============================] - 1s 4ms/step - loss: 49611.1797 - mae: 49611.1797 - val_loss: 50283.9375 - val_mae: 50283.9375\n",
      "Epoch 44/100\n",
      "250/250 [==============================] - 1s 4ms/step - loss: 49601.7773 - mae: 49601.7773 - val_loss: 50291.9609 - val_mae: 50291.9609\n",
      "Epoch 45/100\n",
      "250/250 [==============================] - 1s 4ms/step - loss: 49592.8398 - mae: 49592.8398 - val_loss: 50286.9688 - val_mae: 50286.9688\n",
      "Epoch 46/100\n",
      "250/250 [==============================] - 1s 4ms/step - loss: 49579.7148 - mae: 49579.7148 - val_loss: 50290.5117 - val_mae: 50290.5117\n",
      "Epoch 47/100\n",
      "250/250 [==============================] - 1s 4ms/step - loss: 49572.2578 - mae: 49572.2578 - val_loss: 50290.4570 - val_mae: 50290.4570\n",
      "Epoch 48/100\n",
      "250/250 [==============================] - 1s 4ms/step - loss: 49561.2344 - mae: 49561.2344 - val_loss: 50297.7461 - val_mae: 50297.7461\n",
      "Epoch 49/100\n",
      "250/250 [==============================] - 1s 4ms/step - loss: 49550.9531 - mae: 49550.9531 - val_loss: 50297.9844 - val_mae: 50297.9844\n",
      "Epoch 50/100\n",
      "250/250 [==============================] - 1s 4ms/step - loss: 49546.8320 - mae: 49546.8320 - val_loss: 50299.2695 - val_mae: 50299.2695\n",
      "Epoch 51/100\n",
      "250/250 [==============================] - 1s 4ms/step - loss: 49534.8281 - mae: 49534.8281 - val_loss: 50305.9766 - val_mae: 50305.9766\n",
      "Epoch 52/100\n",
      "250/250 [==============================] - 1s 4ms/step - loss: 49527.8867 - mae: 49527.8867 - val_loss: 50309.6914 - val_mae: 50309.6914\n",
      "Epoch 53/100\n",
      "250/250 [==============================] - 1s 4ms/step - loss: 49520.5352 - mae: 49520.5352 - val_loss: 50303.3203 - val_mae: 50303.3203\n"
     ]
    }
   ],
   "source": [
    "# Train the model\n",
    "history=model.fit(\n",
    "    X_train,y_train,\n",
    "    validation_data=(X_test,y_test),\n",
    "    epochs=100,\n",
    "    callbacks=[early_stopping_callback,tensorboard_callback]\n",
    ")"
   ]
  },
  {
   "cell_type": "code",
   "execution_count": 23,
   "metadata": {},
   "outputs": [],
   "source": [
    "%load_ext tensorboard"
   ]
  },
  {
   "cell_type": "code",
   "execution_count": 24,
   "metadata": {},
   "outputs": [
    {
     "data": {
      "text/html": [
       "\n",
       "      <iframe id=\"tensorboard-frame-2e63e45d208e225a\" width=\"100%\" height=\"800\" frameborder=\"0\">\n",
       "      </iframe>\n",
       "      <script>\n",
       "        (function() {\n",
       "          const frame = document.getElementById(\"tensorboard-frame-2e63e45d208e225a\");\n",
       "          const url = new URL(\"/\", window.location);\n",
       "          const port = 6006;\n",
       "          if (port) {\n",
       "            url.port = port;\n",
       "          }\n",
       "          frame.src = url;\n",
       "        })();\n",
       "      </script>\n",
       "    "
      ],
      "text/plain": [
       "<IPython.core.display.HTML object>"
      ]
     },
     "metadata": {},
     "output_type": "display_data"
    }
   ],
   "source": [
    "%tensorboard --logdir regressionlogs/fit"
   ]
  },
  {
   "cell_type": "code",
   "execution_count": 25,
   "metadata": {},
   "outputs": [
    {
     "name": "stdout",
     "output_type": "stream",
     "text": [
      "63/63 [==============================] - 0s 2ms/step - loss: 50283.9375 - mae: 50283.9375\n",
      "Test MAE : 50283.9375\n"
     ]
    }
   ],
   "source": [
    "## Evaluate model on the test data\n",
    "test_loss,test_mae=model.evaluate(X_test,y_test)\n",
    "print(f'Test MAE : {test_mae}')"
   ]
  },
  {
   "cell_type": "code",
   "execution_count": 26,
   "metadata": {},
   "outputs": [
    {
     "name": "stderr",
     "output_type": "stream",
     "text": [
      "c:\\Users\\LENOVO\\Desktop\\Portfolio_AI\\P7_Regression_ChurnModelling_ANN\\venv\\Lib\\site-packages\\keras\\src\\engine\\training.py:3103: UserWarning: You are saving your model as an HDF5 file via `model.save()`. This file format is considered legacy. We recommend using instead the native Keras format, e.g. `model.save('my_model.keras')`.\n",
      "  saving_api.save_model(\n"
     ]
    }
   ],
   "source": [
    "model.save('regression_model.h5')"
   ]
  },
  {
   "cell_type": "code",
   "execution_count": null,
   "metadata": {},
   "outputs": [],
   "source": []
  }
 ],
 "metadata": {
  "kernelspec": {
   "display_name": "Python 3",
   "language": "python",
   "name": "python3"
  },
  "language_info": {
   "codemirror_mode": {
    "name": "ipython",
    "version": 3
   },
   "file_extension": ".py",
   "mimetype": "text/x-python",
   "name": "python",
   "nbconvert_exporter": "python",
   "pygments_lexer": "ipython3",
   "version": "3.11.0"
  }
 },
 "nbformat": 4,
 "nbformat_minor": 2
}
